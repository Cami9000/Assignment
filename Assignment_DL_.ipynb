{
  "nbformat": 4,
  "nbformat_minor": 0,
  "metadata": {
    "colab": {
      "provenance": [],
      "authorship_tag": "ABX9TyPyNxvK6/1ShCmqZy0yNWiD",
      "include_colab_link": true
    },
    "kernelspec": {
      "name": "python3",
      "display_name": "Python 3"
    },
    "language_info": {
      "name": "python"
    }
  },
  "cells": [
    {
      "cell_type": "markdown",
      "metadata": {
        "id": "view-in-github",
        "colab_type": "text"
      },
      "source": [
        "<a href=\"https://colab.research.google.com/github/Cami9000/Assignment/blob/main/Assignment_DL_.ipynb\" target=\"_parent\"><img src=\"https://colab.research.google.com/assets/colab-badge.svg\" alt=\"Open In Colab\"/></a>"
      ]
    },
    {
      "cell_type": "code",
      "execution_count": 1,
      "metadata": {
        "colab": {
          "base_uri": "https://localhost:8080/"
        },
        "id": "4s9VB46AlGS9",
        "outputId": "812ecfc2-0446-420a-81ab-d008d8a0d10b"
      },
      "outputs": [
        {
          "output_type": "stream",
          "name": "stdout",
          "text": [
            "Mounted at /content/drive\n"
          ]
        }
      ],
      "source": [
        "from google.colab import drive\n",
        "drive.mount('/content/drive')"
      ]
    },
    {
      "cell_type": "code",
      "source": [
        "data_path = '/content/drive/My Drive/Assignment DL/train.csv'\n"
      ],
      "metadata": {
        "id": "y6uxsyHzl3zG"
      },
      "execution_count": 2,
      "outputs": []
    },
    {
      "cell_type": "code",
      "source": [
        "import pandas as pd\n",
        "train_df = pd.read_csv('/content/drive/My Drive/Assignment DL/train.csv')\n",
        "test_df = pd.read_csv('/content/drive/My Drive/Assignment DL/test.csv')\n",
        "sample_df = pd.read_csv('/content/drive/My Drive/Assignment DL/sample_submission.csv')"
      ],
      "metadata": {
        "id": "d8eAo5lWnB0E"
      },
      "execution_count": 3,
      "outputs": []
    },
    {
      "cell_type": "markdown",
      "source": [
        "# **STEP 1**\n",
        "\n",
        "Is it unsupervised or supervised ML?\n",
        "\n",
        "- It is a supervised learning problem because we want to figure out if a costumer is willing to buy another insurance which needs to be predicted based on the other features in the dataset."
      ],
      "metadata": {
        "id": "1t0fBs35nsDW"
      }
    },
    {
      "cell_type": "markdown",
      "source": [
        "# **STEP 2**\n",
        "\n",
        "Is it a classification or regression problem?\n",
        "\n",
        "- t is classification, because the target is binary: either the costumer buys another insurance, or they don't.  So in this situation, we have a \"buying\" or \"not buying\"\n",
        "\n",
        "If we on the other hand should analyse how many insurance the costumer would buy, it would have been a regression problem."
      ],
      "metadata": {
        "id": "WupmiC5kom8M"
      }
    },
    {
      "cell_type": "markdown",
      "source": [
        "# **STEP 3**\n",
        "\n",
        "Do we need traditional ML or Deep Learning?\n",
        "\n",
        "We have to use DL, because we have a big dataset (11 million rows) and we have a lot of features, which make the dataset more complex.\n"
      ],
      "metadata": {
        "id": "35oxeSghpVnW"
      }
    },
    {
      "cell_type": "markdown",
      "source": [
        "# **STEP 4**\n",
        "\n",
        "Train DL"
      ],
      "metadata": {
        "id": "X1r4lU1RqAhe"
      }
    },
    {
      "cell_type": "markdown",
      "source": [
        "# **1. Feature Selection**\n",
        "\n",
        "**Identify the most relevant features (columns) for predicting your target variable.**"
      ],
      "metadata": {
        "id": "IFkCDh0KqghF"
      }
    },
    {
      "cell_type": "code",
      "source": [
        "# Getting an overview of the dataset\n",
        "train_df.head()"
      ],
      "metadata": {
        "colab": {
          "base_uri": "https://localhost:8080/",
          "height": 224
        },
        "id": "q7Fsr2yNqilp",
        "outputId": "aeeebeaf-6cc4-4255-9479-755c8a4cec09"
      },
      "execution_count": 4,
      "outputs": [
        {
          "output_type": "execute_result",
          "data": {
            "text/plain": [
              "   id  Gender  Age  Driving_License  Region_Code  Previously_Insured  \\\n",
              "0   0    Male   21                1         35.0                   0   \n",
              "1   1    Male   43                1         28.0                   0   \n",
              "2   2  Female   25                1         14.0                   1   \n",
              "3   3  Female   35                1          1.0                   0   \n",
              "4   4  Female   36                1         15.0                   1   \n",
              "\n",
              "  Vehicle_Age Vehicle_Damage  Annual_Premium  Policy_Sales_Channel  Vintage  \\\n",
              "0    1-2 Year            Yes         65101.0                 124.0      187   \n",
              "1   > 2 Years            Yes         58911.0                  26.0      288   \n",
              "2    < 1 Year             No         38043.0                 152.0      254   \n",
              "3    1-2 Year            Yes          2630.0                 156.0       76   \n",
              "4    1-2 Year             No         31951.0                 152.0      294   \n",
              "\n",
              "   Response  \n",
              "0         0  \n",
              "1         1  \n",
              "2         0  \n",
              "3         0  \n",
              "4         0  "
            ],
            "text/html": [
              "\n",
              "  <div id=\"df-e0cb32ae-45ae-4156-a4b7-4cfcad799ed9\" class=\"colab-df-container\">\n",
              "    <div>\n",
              "<style scoped>\n",
              "    .dataframe tbody tr th:only-of-type {\n",
              "        vertical-align: middle;\n",
              "    }\n",
              "\n",
              "    .dataframe tbody tr th {\n",
              "        vertical-align: top;\n",
              "    }\n",
              "\n",
              "    .dataframe thead th {\n",
              "        text-align: right;\n",
              "    }\n",
              "</style>\n",
              "<table border=\"1\" class=\"dataframe\">\n",
              "  <thead>\n",
              "    <tr style=\"text-align: right;\">\n",
              "      <th></th>\n",
              "      <th>id</th>\n",
              "      <th>Gender</th>\n",
              "      <th>Age</th>\n",
              "      <th>Driving_License</th>\n",
              "      <th>Region_Code</th>\n",
              "      <th>Previously_Insured</th>\n",
              "      <th>Vehicle_Age</th>\n",
              "      <th>Vehicle_Damage</th>\n",
              "      <th>Annual_Premium</th>\n",
              "      <th>Policy_Sales_Channel</th>\n",
              "      <th>Vintage</th>\n",
              "      <th>Response</th>\n",
              "    </tr>\n",
              "  </thead>\n",
              "  <tbody>\n",
              "    <tr>\n",
              "      <th>0</th>\n",
              "      <td>0</td>\n",
              "      <td>Male</td>\n",
              "      <td>21</td>\n",
              "      <td>1</td>\n",
              "      <td>35.0</td>\n",
              "      <td>0</td>\n",
              "      <td>1-2 Year</td>\n",
              "      <td>Yes</td>\n",
              "      <td>65101.0</td>\n",
              "      <td>124.0</td>\n",
              "      <td>187</td>\n",
              "      <td>0</td>\n",
              "    </tr>\n",
              "    <tr>\n",
              "      <th>1</th>\n",
              "      <td>1</td>\n",
              "      <td>Male</td>\n",
              "      <td>43</td>\n",
              "      <td>1</td>\n",
              "      <td>28.0</td>\n",
              "      <td>0</td>\n",
              "      <td>&gt; 2 Years</td>\n",
              "      <td>Yes</td>\n",
              "      <td>58911.0</td>\n",
              "      <td>26.0</td>\n",
              "      <td>288</td>\n",
              "      <td>1</td>\n",
              "    </tr>\n",
              "    <tr>\n",
              "      <th>2</th>\n",
              "      <td>2</td>\n",
              "      <td>Female</td>\n",
              "      <td>25</td>\n",
              "      <td>1</td>\n",
              "      <td>14.0</td>\n",
              "      <td>1</td>\n",
              "      <td>&lt; 1 Year</td>\n",
              "      <td>No</td>\n",
              "      <td>38043.0</td>\n",
              "      <td>152.0</td>\n",
              "      <td>254</td>\n",
              "      <td>0</td>\n",
              "    </tr>\n",
              "    <tr>\n",
              "      <th>3</th>\n",
              "      <td>3</td>\n",
              "      <td>Female</td>\n",
              "      <td>35</td>\n",
              "      <td>1</td>\n",
              "      <td>1.0</td>\n",
              "      <td>0</td>\n",
              "      <td>1-2 Year</td>\n",
              "      <td>Yes</td>\n",
              "      <td>2630.0</td>\n",
              "      <td>156.0</td>\n",
              "      <td>76</td>\n",
              "      <td>0</td>\n",
              "    </tr>\n",
              "    <tr>\n",
              "      <th>4</th>\n",
              "      <td>4</td>\n",
              "      <td>Female</td>\n",
              "      <td>36</td>\n",
              "      <td>1</td>\n",
              "      <td>15.0</td>\n",
              "      <td>1</td>\n",
              "      <td>1-2 Year</td>\n",
              "      <td>No</td>\n",
              "      <td>31951.0</td>\n",
              "      <td>152.0</td>\n",
              "      <td>294</td>\n",
              "      <td>0</td>\n",
              "    </tr>\n",
              "  </tbody>\n",
              "</table>\n",
              "</div>\n",
              "    <div class=\"colab-df-buttons\">\n",
              "\n",
              "  <div class=\"colab-df-container\">\n",
              "    <button class=\"colab-df-convert\" onclick=\"convertToInteractive('df-e0cb32ae-45ae-4156-a4b7-4cfcad799ed9')\"\n",
              "            title=\"Convert this dataframe to an interactive table.\"\n",
              "            style=\"display:none;\">\n",
              "\n",
              "  <svg xmlns=\"http://www.w3.org/2000/svg\" height=\"24px\" viewBox=\"0 -960 960 960\">\n",
              "    <path d=\"M120-120v-720h720v720H120Zm60-500h600v-160H180v160Zm220 220h160v-160H400v160Zm0 220h160v-160H400v160ZM180-400h160v-160H180v160Zm440 0h160v-160H620v160ZM180-180h160v-160H180v160Zm440 0h160v-160H620v160Z\"/>\n",
              "  </svg>\n",
              "    </button>\n",
              "\n",
              "  <style>\n",
              "    .colab-df-container {\n",
              "      display:flex;\n",
              "      gap: 12px;\n",
              "    }\n",
              "\n",
              "    .colab-df-convert {\n",
              "      background-color: #E8F0FE;\n",
              "      border: none;\n",
              "      border-radius: 50%;\n",
              "      cursor: pointer;\n",
              "      display: none;\n",
              "      fill: #1967D2;\n",
              "      height: 32px;\n",
              "      padding: 0 0 0 0;\n",
              "      width: 32px;\n",
              "    }\n",
              "\n",
              "    .colab-df-convert:hover {\n",
              "      background-color: #E2EBFA;\n",
              "      box-shadow: 0px 1px 2px rgba(60, 64, 67, 0.3), 0px 1px 3px 1px rgba(60, 64, 67, 0.15);\n",
              "      fill: #174EA6;\n",
              "    }\n",
              "\n",
              "    .colab-df-buttons div {\n",
              "      margin-bottom: 4px;\n",
              "    }\n",
              "\n",
              "    [theme=dark] .colab-df-convert {\n",
              "      background-color: #3B4455;\n",
              "      fill: #D2E3FC;\n",
              "    }\n",
              "\n",
              "    [theme=dark] .colab-df-convert:hover {\n",
              "      background-color: #434B5C;\n",
              "      box-shadow: 0px 1px 3px 1px rgba(0, 0, 0, 0.15);\n",
              "      filter: drop-shadow(0px 1px 2px rgba(0, 0, 0, 0.3));\n",
              "      fill: #FFFFFF;\n",
              "    }\n",
              "  </style>\n",
              "\n",
              "    <script>\n",
              "      const buttonEl =\n",
              "        document.querySelector('#df-e0cb32ae-45ae-4156-a4b7-4cfcad799ed9 button.colab-df-convert');\n",
              "      buttonEl.style.display =\n",
              "        google.colab.kernel.accessAllowed ? 'block' : 'none';\n",
              "\n",
              "      async function convertToInteractive(key) {\n",
              "        const element = document.querySelector('#df-e0cb32ae-45ae-4156-a4b7-4cfcad799ed9');\n",
              "        const dataTable =\n",
              "          await google.colab.kernel.invokeFunction('convertToInteractive',\n",
              "                                                    [key], {});\n",
              "        if (!dataTable) return;\n",
              "\n",
              "        const docLinkHtml = 'Like what you see? Visit the ' +\n",
              "          '<a target=\"_blank\" href=https://colab.research.google.com/notebooks/data_table.ipynb>data table notebook</a>'\n",
              "          + ' to learn more about interactive tables.';\n",
              "        element.innerHTML = '';\n",
              "        dataTable['output_type'] = 'display_data';\n",
              "        await google.colab.output.renderOutput(dataTable, element);\n",
              "        const docLink = document.createElement('div');\n",
              "        docLink.innerHTML = docLinkHtml;\n",
              "        element.appendChild(docLink);\n",
              "      }\n",
              "    </script>\n",
              "  </div>\n",
              "\n",
              "\n",
              "<div id=\"df-b05a2b48-4965-401a-8358-7fd86e21f1e5\">\n",
              "  <button class=\"colab-df-quickchart\" onclick=\"quickchart('df-b05a2b48-4965-401a-8358-7fd86e21f1e5')\"\n",
              "            title=\"Suggest charts\"\n",
              "            style=\"display:none;\">\n",
              "\n",
              "<svg xmlns=\"http://www.w3.org/2000/svg\" height=\"24px\"viewBox=\"0 0 24 24\"\n",
              "     width=\"24px\">\n",
              "    <g>\n",
              "        <path d=\"M19 3H5c-1.1 0-2 .9-2 2v14c0 1.1.9 2 2 2h14c1.1 0 2-.9 2-2V5c0-1.1-.9-2-2-2zM9 17H7v-7h2v7zm4 0h-2V7h2v10zm4 0h-2v-4h2v4z\"/>\n",
              "    </g>\n",
              "</svg>\n",
              "  </button>\n",
              "\n",
              "<style>\n",
              "  .colab-df-quickchart {\n",
              "      --bg-color: #E8F0FE;\n",
              "      --fill-color: #1967D2;\n",
              "      --hover-bg-color: #E2EBFA;\n",
              "      --hover-fill-color: #174EA6;\n",
              "      --disabled-fill-color: #AAA;\n",
              "      --disabled-bg-color: #DDD;\n",
              "  }\n",
              "\n",
              "  [theme=dark] .colab-df-quickchart {\n",
              "      --bg-color: #3B4455;\n",
              "      --fill-color: #D2E3FC;\n",
              "      --hover-bg-color: #434B5C;\n",
              "      --hover-fill-color: #FFFFFF;\n",
              "      --disabled-bg-color: #3B4455;\n",
              "      --disabled-fill-color: #666;\n",
              "  }\n",
              "\n",
              "  .colab-df-quickchart {\n",
              "    background-color: var(--bg-color);\n",
              "    border: none;\n",
              "    border-radius: 50%;\n",
              "    cursor: pointer;\n",
              "    display: none;\n",
              "    fill: var(--fill-color);\n",
              "    height: 32px;\n",
              "    padding: 0;\n",
              "    width: 32px;\n",
              "  }\n",
              "\n",
              "  .colab-df-quickchart:hover {\n",
              "    background-color: var(--hover-bg-color);\n",
              "    box-shadow: 0 1px 2px rgba(60, 64, 67, 0.3), 0 1px 3px 1px rgba(60, 64, 67, 0.15);\n",
              "    fill: var(--button-hover-fill-color);\n",
              "  }\n",
              "\n",
              "  .colab-df-quickchart-complete:disabled,\n",
              "  .colab-df-quickchart-complete:disabled:hover {\n",
              "    background-color: var(--disabled-bg-color);\n",
              "    fill: var(--disabled-fill-color);\n",
              "    box-shadow: none;\n",
              "  }\n",
              "\n",
              "  .colab-df-spinner {\n",
              "    border: 2px solid var(--fill-color);\n",
              "    border-color: transparent;\n",
              "    border-bottom-color: var(--fill-color);\n",
              "    animation:\n",
              "      spin 1s steps(1) infinite;\n",
              "  }\n",
              "\n",
              "  @keyframes spin {\n",
              "    0% {\n",
              "      border-color: transparent;\n",
              "      border-bottom-color: var(--fill-color);\n",
              "      border-left-color: var(--fill-color);\n",
              "    }\n",
              "    20% {\n",
              "      border-color: transparent;\n",
              "      border-left-color: var(--fill-color);\n",
              "      border-top-color: var(--fill-color);\n",
              "    }\n",
              "    30% {\n",
              "      border-color: transparent;\n",
              "      border-left-color: var(--fill-color);\n",
              "      border-top-color: var(--fill-color);\n",
              "      border-right-color: var(--fill-color);\n",
              "    }\n",
              "    40% {\n",
              "      border-color: transparent;\n",
              "      border-right-color: var(--fill-color);\n",
              "      border-top-color: var(--fill-color);\n",
              "    }\n",
              "    60% {\n",
              "      border-color: transparent;\n",
              "      border-right-color: var(--fill-color);\n",
              "    }\n",
              "    80% {\n",
              "      border-color: transparent;\n",
              "      border-right-color: var(--fill-color);\n",
              "      border-bottom-color: var(--fill-color);\n",
              "    }\n",
              "    90% {\n",
              "      border-color: transparent;\n",
              "      border-bottom-color: var(--fill-color);\n",
              "    }\n",
              "  }\n",
              "</style>\n",
              "\n",
              "  <script>\n",
              "    async function quickchart(key) {\n",
              "      const quickchartButtonEl =\n",
              "        document.querySelector('#' + key + ' button');\n",
              "      quickchartButtonEl.disabled = true;  // To prevent multiple clicks.\n",
              "      quickchartButtonEl.classList.add('colab-df-spinner');\n",
              "      try {\n",
              "        const charts = await google.colab.kernel.invokeFunction(\n",
              "            'suggestCharts', [key], {});\n",
              "      } catch (error) {\n",
              "        console.error('Error during call to suggestCharts:', error);\n",
              "      }\n",
              "      quickchartButtonEl.classList.remove('colab-df-spinner');\n",
              "      quickchartButtonEl.classList.add('colab-df-quickchart-complete');\n",
              "    }\n",
              "    (() => {\n",
              "      let quickchartButtonEl =\n",
              "        document.querySelector('#df-b05a2b48-4965-401a-8358-7fd86e21f1e5 button');\n",
              "      quickchartButtonEl.style.display =\n",
              "        google.colab.kernel.accessAllowed ? 'block' : 'none';\n",
              "    })();\n",
              "  </script>\n",
              "</div>\n",
              "\n",
              "    </div>\n",
              "  </div>\n"
            ],
            "application/vnd.google.colaboratory.intrinsic+json": {
              "type": "dataframe",
              "variable_name": "train_df"
            }
          },
          "metadata": {},
          "execution_count": 4
        }
      ]
    },
    {
      "cell_type": "code",
      "source": [
        "# To check which features would be best to analyse with, we make a correlation matrix to see which features have a correlation to eachother\n",
        "# Only want the numeric data\n",
        "numeric_df = train_df.select_dtypes(include=['number'])\n",
        "\n",
        "# Calculate correlation matrix\n",
        "corr_matrix = numeric_df.corr()\n",
        "\n",
        "# Sort features with highest correlation to Response, that this is our target variable.\n",
        "corr_target = corr_matrix[\"Response\"].abs().sort_values(ascending=False)\n",
        "print(corr_target)\n"
      ],
      "metadata": {
        "colab": {
          "base_uri": "https://localhost:8080/"
        },
        "id": "zmEVV_kHrVMM",
        "outputId": "25a4fc76-4d9e-476a-9b5a-475f4bf8a63b"
      },
      "execution_count": 5,
      "outputs": [
        {
          "output_type": "stream",
          "name": "stdout",
          "text": [
            "Response                1.000000\n",
            "Previously_Insured      0.345930\n",
            "Policy_Sales_Channel    0.152733\n",
            "Age                     0.122134\n",
            "Annual_Premium          0.032261\n",
            "Vintage                 0.015177\n",
            "Region_Code             0.012816\n",
            "Driving_License         0.009197\n",
            "id                      0.000018\n",
            "Name: Response, dtype: float64\n"
          ]
        }
      ]
    },
    {
      "cell_type": "markdown",
      "source": [
        "**Provide a rationale for why these features are important or hypothesized to be predictive.**\n",
        "\n",
        "\n",
        "I have selected features with a correlation above 0.10, as they have a moderate to strong relationship with Response and are expected to be predictive of house prices.\n",
        "\n",
        "- Previously_Insured - if a customer already has insurance, it likely influences their decision to buy more\n",
        "- Policy_Sales_Channel - The sales channel can have a moderate effect on whether the customer buys.\n",
        "- Age - Age may play a role – perhaps older people are more likely to buy."
      ],
      "metadata": {
        "id": "9YziIWSlu_Kv"
      }
    },
    {
      "cell_type": "markdown",
      "source": [
        "# **2. Feature Engineering**\n",
        "\n",
        "**Create or transform features that might enhance predictive power.**\n",
        "\n",
        "(Encode categorical features (e.g., one-hot encoding).)\n"
      ],
      "metadata": {
        "id": "CW8gF6l8w7VT"
      }
    },
    {
      "cell_type": "code",
      "source": [
        "train_df[\"Vehicle_Damage\"].unique()"
      ],
      "metadata": {
        "colab": {
          "base_uri": "https://localhost:8080/"
        },
        "id": "dWrkAt1I3OSp",
        "outputId": "10c33847-b51b-4837-ae51-23631c62cd7e"
      },
      "execution_count": 6,
      "outputs": [
        {
          "output_type": "execute_result",
          "data": {
            "text/plain": [
              "array(['Yes', 'No'], dtype=object)"
            ]
          },
          "metadata": {},
          "execution_count": 6
        }
      ]
    },
    {
      "cell_type": "code",
      "source": [
        "train_df[\"Vehicle_Age\"].unique()"
      ],
      "metadata": {
        "colab": {
          "base_uri": "https://localhost:8080/"
        },
        "id": "5D133_TX4Irg",
        "outputId": "98ac98c4-7d6c-455a-b5bd-375d9a6e5710"
      },
      "execution_count": 7,
      "outputs": [
        {
          "output_type": "execute_result",
          "data": {
            "text/plain": [
              "array(['1-2 Year', '> 2 Years', '< 1 Year'], dtype=object)"
            ]
          },
          "metadata": {},
          "execution_count": 7
        }
      ]
    },
    {
      "cell_type": "code",
      "source": [
        "# ML only understands numeric data and not text data\n",
        "# Features like \"Vehicle_Age\" and \"Vehicle_Damage\" are categorical and need to be converted to numbers (0 = No, 1 = Yes)\n",
        "\n",
        "train_df[\"Vehicle_Age\"] = train_df[\"Vehicle_Age\"].replace({\"< 1 Year\": 0, \"1-2 Year\": 1, \"> 2 Years\": 2}).astype(int)\n",
        "train_df[\"Vehicle_Damage\"] = train_df[\"Vehicle_Damage\"].replace({\"No\": 0, \"Yes\": 1}).astype(int)\n",
        "\n",
        "test_df[\"Vehicle_Age\"] = test_df[\"Vehicle_Age\"].replace({\"< 1 Year\": 0, \"1-2 Year\": 1, \"> 2 Years\": 2}).astype(int)\n",
        "test_df[\"Vehicle_Damage\"] = test_df[\"Vehicle_Damage\"].replace({\"No\": 0, \"Yes\": 1}).astype(int)\n"
      ],
      "metadata": {
        "colab": {
          "base_uri": "https://localhost:8080/"
        },
        "id": "QjK7Es5Q4FME",
        "outputId": "d50f0ffe-60a7-4b12-bea4-f53766dac065"
      },
      "execution_count": 8,
      "outputs": [
        {
          "output_type": "stream",
          "name": "stderr",
          "text": [
            "<ipython-input-8-b0e51a0f934c>:4: FutureWarning: Downcasting behavior in `replace` is deprecated and will be removed in a future version. To retain the old behavior, explicitly call `result.infer_objects(copy=False)`. To opt-in to the future behavior, set `pd.set_option('future.no_silent_downcasting', True)`\n",
            "  train_df[\"Vehicle_Age\"] = train_df[\"Vehicle_Age\"].replace({\"< 1 Year\": 0, \"1-2 Year\": 1, \"> 2 Years\": 2}).astype(int)\n",
            "<ipython-input-8-b0e51a0f934c>:5: FutureWarning: Downcasting behavior in `replace` is deprecated and will be removed in a future version. To retain the old behavior, explicitly call `result.infer_objects(copy=False)`. To opt-in to the future behavior, set `pd.set_option('future.no_silent_downcasting', True)`\n",
            "  train_df[\"Vehicle_Damage\"] = train_df[\"Vehicle_Damage\"].replace({\"No\": 0, \"Yes\": 1}).astype(int)\n",
            "<ipython-input-8-b0e51a0f934c>:7: FutureWarning: Downcasting behavior in `replace` is deprecated and will be removed in a future version. To retain the old behavior, explicitly call `result.infer_objects(copy=False)`. To opt-in to the future behavior, set `pd.set_option('future.no_silent_downcasting', True)`\n",
            "  test_df[\"Vehicle_Age\"] = test_df[\"Vehicle_Age\"].replace({\"< 1 Year\": 0, \"1-2 Year\": 1, \"> 2 Years\": 2}).astype(int)\n",
            "<ipython-input-8-b0e51a0f934c>:8: FutureWarning: Downcasting behavior in `replace` is deprecated and will be removed in a future version. To retain the old behavior, explicitly call `result.infer_objects(copy=False)`. To opt-in to the future behavior, set `pd.set_option('future.no_silent_downcasting', True)`\n",
            "  test_df[\"Vehicle_Damage\"] = test_df[\"Vehicle_Damage\"].replace({\"No\": 0, \"Yes\": 1}).astype(int)\n"
          ]
        }
      ]
    },
    {
      "cell_type": "code",
      "source": [
        "# Checking that the feature Vehicle_Age is converted correctly\n",
        "train_df[\"Vehicle_Age\"].unique()"
      ],
      "metadata": {
        "colab": {
          "base_uri": "https://localhost:8080/"
        },
        "id": "aLKf_-of5Oe_",
        "outputId": "94e25e7e-e361-45b8-e198-d2a4fcefbcd0"
      },
      "execution_count": 9,
      "outputs": [
        {
          "output_type": "execute_result",
          "data": {
            "text/plain": [
              "array([1, 2, 0])"
            ]
          },
          "metadata": {},
          "execution_count": 9
        }
      ]
    },
    {
      "cell_type": "code",
      "source": [
        "# If a customer has previously had insurance (\"Previously Insured\" = 1), but their vehicle has had damage\n",
        "# (\"Vehicle_Damage\" = 1), they may be more likely to purchase new insurance.\n",
        "train_df[\"Insurance_Gap\"] = train_df[\"Vehicle_Damage\"] - train_df[\"Previously_Insured\"]\n",
        "test_df[\"Insurance_Gap\"] = test_df[\"Vehicle_Damage\"] - test_df[\"Previously_Insured\"]\n",
        "\n",
        "# Value = 1 - Customer has had a claim but no previous insurance = High chance of buying insurance\n",
        "# Value = 0 - Customer has either had previous insurance or no claim\n",
        "# Value = -1 - Customer had insurance and no claim"
      ],
      "metadata": {
        "id": "GIAO_sgR4zyD"
      },
      "execution_count": 10,
      "outputs": []
    },
    {
      "cell_type": "code",
      "source": [
        "# A customer with an old vehicle (\"Vehicle Age\") + previous damage (\"Vehicle Damage\") + high annual premium\n",
        "#(\"Annual_Premium\") may be at higher risk.\n",
        "\n",
        "train_df[\"Risk_Score\"] = train_df[\"Vehicle_Age\"] + train_df[\"Vehicle_Damage\"] + (train_df[\"Annual_Premium\"] / train_df[\"Annual_Premium\"].max())\n",
        "test_df[\"Risk_Score\"] = test_df[\"Vehicle_Age\"] + test_df[\"Vehicle_Damage\"] + (test_df[\"Annual_Premium\"] / test_df[\"Annual_Premium\"].max())\n",
        "\n",
        "# Higher value = higher risk\n"
      ],
      "metadata": {
        "id": "ggTWd1uezB1_"
      },
      "execution_count": 11,
      "outputs": []
    },
    {
      "cell_type": "code",
      "source": [
        "# Age can have a non-linear effect on the purchase decision.\n",
        "# We can group it into categories\n",
        "train_df[\"Age_Group\"] = pd.cut(train_df[\"Age\"], bins=[18, 25, 35, 50, 100], labels=[0, 1, 2, 3])\n",
        "test_df[\"Age_Group\"] = pd.cut(test_df[\"Age\"], bins=[18, 25, 35, 50, 100], labels=[0, 1, 2, 3])\n",
        "\n",
        "# 0 = Young customers (18-25)\n",
        "# 1 = Adults (26-35)\n",
        "# 2 = Middle-aged (36-50)\n",
        "# 3 = Older (50+)\n",
        "\n",
        "\n",
        "# Prevents outliers in age from creating noise\n",
        "# Gives the model a better understanding of the importance of age"
      ],
      "metadata": {
        "id": "sS4bE_H2zhtm"
      },
      "execution_count": 12,
      "outputs": []
    },
    {
      "cell_type": "markdown",
      "source": [
        "# **Data Preprocessing**\n",
        "\n",
        "**Handle missing values (e.g., imputation, removal).**\n"
      ],
      "metadata": {
        "id": "yINmI2mpy7j2"
      }
    },
    {
      "cell_type": "code",
      "source": [
        "# Check missing values\n",
        "missing_values = train_df.isnull().sum()\n",
        "missing_values = missing_values[missing_values > 0]  # Only show columns with missing values\n",
        "print(missing_values)\n",
        "\n",
        "# Our output shows not how many missing values is in the columns\n"
      ],
      "metadata": {
        "id": "gyYOxRzvx99x",
        "colab": {
          "base_uri": "https://localhost:8080/"
        },
        "outputId": "b595d942-29df-450a-9908-ace64bc5d12b"
      },
      "execution_count": 13,
      "outputs": [
        {
          "output_type": "stream",
          "name": "stdout",
          "text": [
            "Series([], dtype: int64)\n"
          ]
        }
      ]
    },
    {
      "cell_type": "markdown",
      "source": [
        "**Normalize/standardize numerical features (e.g., Min-Max or StandardScaler).**"
      ],
      "metadata": {
        "id": "rOp92abo8FtJ"
      }
    },
    {
      "cell_type": "code",
      "source": [
        "from sklearn.preprocessing import MinMaxScaler\n",
        "\n",
        "# Chosing the features that has to be scaled\n",
        "num_features = [\"Age\", \"Annual_Premium\", \"Vintage\", \"Risk_Score\"]\n",
        "\n",
        "scaler = MinMaxScaler()\n",
        "\n",
        "# Fit-transform on train data\n",
        "train_df[num_features] = scaler.fit_transform(train_df[num_features])\n",
        "\n",
        "# Transform test data\n",
        "test_df[num_features] = scaler.transform(test_df[num_features])\n",
        "\n",
        "# Checking the scaled value is between 0 og 1\n",
        "print(train_df[num_features].describe())"
      ],
      "metadata": {
        "colab": {
          "base_uri": "https://localhost:8080/"
        },
        "id": "ou46ytce6jMO",
        "outputId": "c04d4800-cf24-478a-c1fd-b6c155296baa"
      },
      "execution_count": 14,
      "outputs": [
        {
          "output_type": "stream",
          "name": "stdout",
          "text": [
            "                Age  Annual_Premium       Vintage    Risk_Score\n",
            "count  1.150480e+07    1.150480e+07  1.150480e+07  1.150480e+07\n",
            "mean   2.828241e-01    5.177592e-02  5.325181e-01  2.896803e-01\n",
            "std    2.306686e-01    3.061149e-02  2.767458e-01  2.249747e-01\n",
            "min    0.000000e+00    0.000000e+00  0.000000e+00  0.000000e+00\n",
            "25%    6.153846e-02    4.213121e-02  3.079585e-01  1.664481e-02\n",
            "50%    2.461538e-01    5.431088e-02  5.397924e-01  2.648976e-01\n",
            "75%    4.461538e-01    6.849973e-02  7.681661e-01  5.132107e-01\n",
            "max    1.000000e+00    1.000000e+00  1.000000e+00  1.000000e+00\n"
          ]
        }
      ]
    },
    {
      "cell_type": "code",
      "source": [
        "from sklearn.model_selection import train_test_split\n",
        "\n",
        "# Sampling\n",
        "sample_size = 500000  # Taking 500k rows from 11.5M\n",
        "\n",
        "df_sample, _ = train_test_split(train_df, train_size=sample_size, stratify=train_df[\"Response\"], random_state=42)\n",
        "\n",
        "print(f\"Sampled Dataset Shape: {df_sample.shape}\")\n"
      ],
      "metadata": {
        "colab": {
          "base_uri": "https://localhost:8080/"
        },
        "id": "tEXOSorOVbVm",
        "outputId": "d7cb6bd1-08e2-42e5-cf0b-8406f5e39b3a"
      },
      "execution_count": 30,
      "outputs": [
        {
          "output_type": "stream",
          "name": "stdout",
          "text": [
            "Sampled Dataset Shape: (500000, 15)\n"
          ]
        }
      ]
    },
    {
      "cell_type": "markdown",
      "source": [
        "# **Train-Test (or Train-Validation-Test) Split**\n",
        "\n",
        "Split your data into appropriate sets.\n",
        "Consider using a validation set or cross-validation to fine-tune hyperparameters."
      ],
      "metadata": {
        "id": "nlrap5h5-r2P"
      }
    },
    {
      "cell_type": "code",
      "source": [
        "from sklearn.model_selection import train_test_split\n",
        "\n",
        "# Dine udvalgte features\n",
        "selected_features = [\n",
        "    \"Previously_Insured\", \"Policy_Sales_Channel\", \"Age\",\n",
        "    \"Vehicle_Age\", \"Vehicle_Damage\", \"Insurance_Gap\",\n",
        "    \"Risk_Score\", \"Age_Group\", \"Annual_Premium\", \"Vintage\"\n",
        "]\n",
        "\n",
        "# Definér X (features) og y (target)\n",
        "X = df_sample[selected_features]  # Features\n",
        "y = df_sample[\"Response\"]  # Target (det vi vil forudsige)\n",
        "\n",
        "# Først laver vi en 85% træning + 15% test split\n",
        "X_train, X_test, y_train, y_test = train_test_split(X, y, test_size=0.15, random_state=42, stratify=y)\n",
        "\n",
        "# Dernæst splitter vi træningsdata i 70% træning + 15% validering\n",
        "X_train, X_val, y_train, y_val = train_test_split(X_train, y_train, test_size=0.1765, random_state=42, stratify=y_train)\n",
        "\n",
        "# Tjek størrelsen af de tre sæt\n",
        "print(f\"Train set: {X_train.shape}, Validation set: {X_val.shape}, Test set: {X_test.shape}\")\n"
      ],
      "metadata": {
        "colab": {
          "base_uri": "https://localhost:8080/"
        },
        "id": "g_qUzRoa9PlK",
        "outputId": "4071c72a-2d6f-4ea4-baa2-37a8af49c2e4"
      },
      "execution_count": 31,
      "outputs": [
        {
          "output_type": "stream",
          "name": "stdout",
          "text": [
            "Train set: (349987, 10), Validation set: (75013, 10), Test set: (75000, 10)\n"
          ]
        }
      ]
    },
    {
      "cell_type": "markdown",
      "source": [
        "# **Define Your Neural Network Architecture in PyTorch**\n",
        "\n",
        "**MLP (if your data is purely cross-sectional):**\n",
        "\n",
        "At least 2 hidden layers.\n",
        "Common activation functions (e.g., ReLU, Sigmoid, Tanh).\n",
        "Consider using dropout or batch normalization if helpful."
      ],
      "metadata": {
        "id": "7icjhotnELFQ"
      }
    },
    {
      "cell_type": "code",
      "source": [
        "import torch\n",
        "import torch.nn as nn\n",
        "import torch.optim as optim\n",
        "import torch.nn.functional as F\n",
        "from torch.utils.data import DataLoader, TensorDataset, random_split\n",
        "import numpy as np\n",
        "import pandas as pd\n",
        "import matplotlib.pyplot as plt\n",
        "from sklearn.preprocessing import StandardScaler\n",
        "from sklearn.metrics import accuracy_score, classification_report\n",
        "from sklearn.utils.class_weight import compute_class_weight\n",
        "from imblearn.over_sampling import ADASYN\n",
        "from imblearn.under_sampling import EditedNearestNeighbours"
      ],
      "metadata": {
        "id": "VdTfa2XuEyRm"
      },
      "execution_count": 32,
      "outputs": []
    },
    {
      "cell_type": "code",
      "source": [
        "# Step 1: Load and Preprocess Data\n",
        "def load_and_preprocess_data(X_train, y_train, X_val, y_val, X_test, y_test):\n",
        "    scaler = MinMaxScaler()\n",
        "    X_train_scaled = scaler.fit_transform(X_train)\n",
        "    X_val_scaled = scaler.transform(X_val)\n",
        "    X_test_scaled = scaler.transform(X_test)\n",
        "\n",
        "    X_train_tensor = torch.tensor(X_train_scaled, dtype=torch.float32)\n",
        "    y_train_tensor = torch.tensor(y_train.to_numpy(), dtype=torch.float32).view(-1, 1)\n",
        "    X_val_tensor = torch.tensor(X_val_scaled, dtype=torch.float32)\n",
        "    y_val_tensor = torch.tensor(y_val.to_numpy(), dtype=torch.float32).view(-1, 1)\n",
        "    X_test_tensor = torch.tensor(X_test_scaled, dtype=torch.float32)\n",
        "    y_test_tensor = torch.tensor(y_test.to_numpy(), dtype=torch.float32).view(-1, 1)\n",
        "\n",
        "    train_dataset = TensorDataset(X_train_tensor, y_train_tensor)\n",
        "    val_dataset = TensorDataset(X_val_tensor, y_val_tensor)\n",
        "    test_dataset = TensorDataset(X_test_tensor, y_test_tensor)\n",
        "\n",
        "    train_loader = DataLoader(train_dataset, batch_size=64, shuffle=True)\n",
        "    val_loader = DataLoader(val_dataset, batch_size=64, shuffle=False)\n",
        "    test_loader = DataLoader(test_dataset, batch_size=64, shuffle=False)\n",
        "\n",
        "    return train_loader, val_loader, test_loader"
      ],
      "metadata": {
        "id": "-Nws69ZHeisi"
      },
      "execution_count": 33,
      "outputs": []
    },
    {
      "cell_type": "code",
      "source": [
        "# Step 2: Feature Engineering (already done in preprocessing)"
      ],
      "metadata": {
        "id": "3g_xrr8eERu0"
      },
      "execution_count": 34,
      "outputs": []
    },
    {
      "cell_type": "code",
      "source": [
        "class MLP(nn.Module):\n",
        "    def __init__(self, input_dim):\n",
        "        super(MLP, self).__init__()\n",
        "        self.model = nn.Sequential(\n",
        "            nn.Linear(input_dim, 512),\n",
        "            nn.ReLU(),\n",
        "            nn.Dropout(0.4),\n",
        "            nn.Linear(512, 256),\n",
        "            nn.ReLU(),\n",
        "            nn.Dropout(0.3),\n",
        "            nn.Linear(256, 128),\n",
        "            nn.ReLU(),\n",
        "            nn.Linear(128, 64),\n",
        "            nn.ReLU(),\n",
        "            nn.Linear(64, 1),\n",
        "            nn.Sigmoid()\n",
        "        )\n",
        "\n",
        "    def forward(self, x):\n",
        "        return self.model(x)"
      ],
      "metadata": {
        "id": "Sr0KgvSBEUnt"
      },
      "execution_count": 52,
      "outputs": []
    },
    {
      "cell_type": "markdown",
      "source": [
        "# **Training Loop**\n",
        "\n",
        "Implement a standard PyTorch training loop.\n",
        "Specify an appropriate loss function (e.g., MSE for regression, CrossEntropy for classification).\n",
        "Choose an optimizer (e.g., Adam, SGD).\n",
        "Track metrics (training/validation loss, accuracy, or other relevant metrics)."
      ],
      "metadata": {
        "id": "xkZBDI4iEb1J"
      }
    },
    {
      "cell_type": "code",
      "source": [
        "# Step 4: Training Loop\n",
        "def train_model(model, train_loader, val_loader, num_epochs=10, lr=0.001):\n",
        "    criterion = nn.BCELoss()\n",
        "    optimizer = optim.Adam(model.parameters(), lr=lr)\n",
        "    train_losses, val_losses = [], []\n",
        "\n",
        "    for epoch in range(num_epochs):\n",
        "        model.train()\n",
        "        train_loss = 0\n",
        "        for X_batch, y_batch in train_loader:\n",
        "            optimizer.zero_grad()\n",
        "            y_pred = model(X_batch)\n",
        "            loss = criterion(y_pred, y_batch)\n",
        "            loss.backward()\n",
        "            optimizer.step()\n",
        "            train_loss += loss.item()\n",
        "\n",
        "        # Validation step\n",
        "        model.eval()\n",
        "        val_loss = 0\n",
        "        correct, total = 0, 0\n",
        "        with torch.no_grad():\n",
        "            for X_batch, y_batch in val_loader:\n",
        "                y_pred = model(X_batch)\n",
        "                val_loss += criterion(y_pred, y_batch).item()\n",
        "                predicted = (y_pred > 0.5).float()\n",
        "                correct += (predicted == y_batch).sum().item()\n",
        "                total += y_batch.size(0)\n",
        "\n",
        "        val_acc = correct / total\n",
        "        train_losses.append(train_loss / len(train_loader))\n",
        "        val_losses.append(val_loss / len(val_loader))\n",
        "\n",
        "        print(f\"Epoch {epoch+1}/{num_epochs} | Train Loss: {train_losses[-1]:.4f} | Val Loss: {val_losses[-1]:.4f} | Val Acc: {val_acc:.4f}\")\n",
        "\n",
        "    return train_losses, val_losses"
      ],
      "metadata": {
        "id": "JtIYSmfqEYa1"
      },
      "execution_count": 53,
      "outputs": []
    },
    {
      "cell_type": "markdown",
      "source": [
        "# **Hyperparameter Experiments**\n",
        "\n",
        "Test different hyperparameters (e.g., hidden layers, learning rate, batch size) to observe changes in performance.\n",
        "Record and discuss these experiments."
      ],
      "metadata": {
        "id": "3AY3YkgREotr"
      }
    },
    {
      "cell_type": "code",
      "source": [
        "# Step 5: Hyperparameter Experiments\n",
        "def hyperparameter_experiment(X_train, y_train, X_val, y_val, X_test, y_test):\n",
        "    train_loader, val_loader, test_loader = load_and_preprocess_data(X_train, y_train, X_val, y_val, X_test, y_test)\n",
        "    input_dim = X_train.shape[1]\n",
        "\n",
        "    best_lr = None\n",
        "    best_acc = 0\n",
        "\n",
        "    for lr in [0.01, 0.001, 0.0001]:\n",
        "        print(f\"Testing learning rate: {lr}\")\n",
        "        model = MLP(input_dim)\n",
        "        train_losses, val_losses = train_model(model, train_loader, val_loader, num_epochs=10, lr=lr)\n",
        "\n",
        "        # Evaluate on validation set\n",
        "        model.eval()\n",
        "        correct, total = 0, 0\n",
        "        with torch.no_grad():\n",
        "            for X_batch, y_batch in val_loader:\n",
        "                y_pred = model(X_batch)\n",
        "                predicted = (y_pred > 0.5).float()\n",
        "                correct += (predicted == y_batch).sum().item()\n",
        "                total += y_batch.size(0)\n",
        "        val_acc = correct / total\n",
        "\n",
        "        if val_acc > best_acc:\n",
        "            best_acc = val_acc\n",
        "            best_lr = lr\n",
        "\n",
        "    print(f\"Best Learning Rate: {best_lr} with Validation Accuracy: {best_acc:.4f}\")"
      ],
      "metadata": {
        "id": "q6_vCbgDEi2u"
      },
      "execution_count": 54,
      "outputs": []
    },
    {
      "cell_type": "markdown",
      "source": [
        "# **Model Evaluation**\n",
        "\n",
        "Evaluate your final model(s) on the test set.\n",
        "Use appropriate metrics (e.g., RMSE, MAE, R² for regression tasks; accuracy, F1-score, etc. for classification tasks).\n",
        "Provide plots of the training process (loss curves, etc.) and any model diagnostics."
      ],
      "metadata": {
        "id": "xnwM0NUKE-WB"
      }
    },
    {
      "cell_type": "code",
      "source": [
        "# Step 6: Model Evaluation\n",
        "def evaluate_model(model, test_loader):\n",
        "    model.eval()\n",
        "    correct, total = 0, 0\n",
        "    with torch.no_grad():\n",
        "        for X_batch, y_batch in test_loader:\n",
        "            y_pred = model(X_batch)\n",
        "            predicted = (y_pred > 0.5).float()\n",
        "            correct += (predicted == y_batch).sum().item()\n",
        "            total += y_batch.size(0)\n",
        "    test_acc = correct / total\n",
        "    print(f\"Test Accuracy: {test_acc:.4f}\")\n",
        "    return test_acc\n"
      ],
      "metadata": {
        "id": "rCJc_tanEmVM"
      },
      "execution_count": 55,
      "outputs": []
    },
    {
      "cell_type": "code",
      "source": [
        "# Step 7: Training Visualization\n",
        "def plot_losses(train_losses, val_losses):\n",
        "    plt.figure(figsize=(10, 5))\n",
        "    plt.plot(train_losses, label='Train Loss')\n",
        "    plt.plot(val_losses, label='Validation Loss')\n",
        "    plt.xlabel('Epoch')\n",
        "    plt.ylabel('Loss')\n",
        "    plt.legend()\n",
        "    plt.title('Training & Validation Loss')\n",
        "    plt.show()\n",
        "\n",
        "# Load data\n",
        "train_loader, val_loader, test_loader = load_and_preprocess_data(X_train, y_train, X_val, y_val, X_test, y_test)\n",
        "\n",
        "# Initialize model\n",
        "input_dim = X_train.shape[1]\n",
        "model = MLP(input_dim)\n",
        "\n",
        "# Train the model\n",
        "train_losses, val_losses = train_model(model, train_loader, val_loader, num_epochs=10, lr=0.0005)\n",
        "\n",
        "# Plot the training loss curves\n",
        "plot_losses(train_losses, val_losses)\n"
      ],
      "metadata": {
        "colab": {
          "base_uri": "https://localhost:8080/",
          "height": 657
        },
        "id": "61PrCdWXE7x-",
        "outputId": "1049f431-799f-49e9-eb4a-0b3069de9fa6"
      },
      "execution_count": 56,
      "outputs": [
        {
          "output_type": "stream",
          "name": "stdout",
          "text": [
            "Epoch 1/10 | Train Loss: 0.2715 | Val Loss: 0.2682 | Val Acc: 0.8770\n",
            "Epoch 2/10 | Train Loss: 0.2688 | Val Loss: 0.2668 | Val Acc: 0.8770\n",
            "Epoch 3/10 | Train Loss: 0.2681 | Val Loss: 0.2667 | Val Acc: 0.8770\n",
            "Epoch 4/10 | Train Loss: 0.2677 | Val Loss: 0.2672 | Val Acc: 0.8770\n",
            "Epoch 5/10 | Train Loss: 0.2674 | Val Loss: 0.2664 | Val Acc: 0.8770\n",
            "Epoch 6/10 | Train Loss: 0.2672 | Val Loss: 0.2682 | Val Acc: 0.8770\n",
            "Epoch 7/10 | Train Loss: 0.2670 | Val Loss: 0.2658 | Val Acc: 0.8770\n",
            "Epoch 8/10 | Train Loss: 0.2670 | Val Loss: 0.2662 | Val Acc: 0.8770\n",
            "Epoch 9/10 | Train Loss: 0.2669 | Val Loss: 0.2658 | Val Acc: 0.8770\n",
            "Epoch 10/10 | Train Loss: 0.2667 | Val Loss: 0.2654 | Val Acc: 0.8770\n"
          ]
        },
        {
          "output_type": "display_data",
          "data": {
            "text/plain": [
              "<Figure size 1000x500 with 1 Axes>"
            ],
            "image/png": "[encoded data removed]"
          },
          "metadata": {}
        }
      ]
    },
    {
      "cell_type": "code",
      "source": [],
      "metadata": {
        "id": "OKPn9renFTme"
      },
      "execution_count": 24,
      "outputs": []
    }
  ]
}